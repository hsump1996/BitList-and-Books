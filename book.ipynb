{
 "cells": [
  {
   "cell_type": "markdown",
   "metadata": {},
   "source": []
  },
  {
   "cell_type": "markdown",
   "metadata": {},
   "source": [
    "Title: The Strange Case Of Dr. Jekyll And Mr. Hyde\n",
    "\n",
    "Author: Robert Louis Stevenson\n",
    "    \n",
    "URL to the book: https://www.gutenberg.org/ebooks/43\n",
    "    \n",
    "License Information: This eBook is for the use of anyone anywhere at no cost and with\n",
    "almost no restrictions whatsoever.You may copy it, give it away or\n",
    "re-use it under the terms of the Project Gutenberg License included\n",
    "with this eBook or online at www.gutenberg.org\n",
    "\n",
    "Encoding: UTF-8\n",
    "    \n",
    "Language: English\n",
    "    \n",
    "Question: Which name appears more often in the book? Hyde or Jekyll?\n",
    "\n",
    "My Answer: Hyde\n",
    "\n",
    "Question2: What word does the author use most often?\n",
    "\n",
    "My Answer: and"
   ]
  },
  {
   "cell_type": "markdown",
   "metadata": {},
   "source": [
    "Type Markdown and LaTeX:  α2 \n",
    "Title: Alice’s Adventures in Wonderland\n",
    "\n",
    "Author: Lewis Carroll\n",
    "\n",
    "URL to the book: https://www.gutenberg.org/ebooks/11\n",
    "\n",
    "License Information: This eBook is for the use of anyone anywhere in the United States and most\n",
    "other parts of the world at no cost and with almost no restrictions\n",
    "whatsoever.  You may copy it, give it away or re-use it under the terms of\n",
    "the Project Gutenberg License included with this eBook or online at\n",
    "www.gutenberg.org.  If you are not located in the United States, you'll have\n",
    "to check the laws of the country where you are located before using this ebook.\n",
    "\n",
    "Encoding: UTF-8\n",
    "\n",
    "Language: English\n",
    "\n",
    "Question: Are the pronouns in Alice's Adventures in Wonderland predominantly male or female?\n",
    "\n",
    "My Answer: Male"
   ]
  },
  {
   "cell_type": "code",
   "execution_count": 6,
   "metadata": {},
   "outputs": [
    {
     "name": "stdout",
     "output_type": "stream",
     "text": [
      "Jekyll 32\n",
      "Hyde 48\n"
     ]
    }
   ],
   "source": [
    "    dictionary = dict() \n",
    "    \n",
    "    word1 = \"Jekyll\"\n",
    "    \n",
    "    word2 = \"Hyde\"\n",
    "    \n",
    "    with open('data/43-0.txt', 'r') as fin:\n",
    "        for line in fin:\n",
    "            line = line.strip()\n",
    "            splitted_word_list = line.split(\" \")\n",
    "            \n",
    "            for word in splitted_word_list:\n",
    "                \n",
    "                if word1 == word:\n",
    "                    if word1 not in dictionary: \n",
    "                        dictionary[word1] = 1\n",
    "                    else:\n",
    "                        dictionary[word1] = dictionary[word1] + 1\n",
    "        \n",
    "                elif word2 == word:\n",
    "                    if word2 not in dictionary: \n",
    "                        dictionary[word2] = 1\n",
    "                    else:\n",
    "                        dictionary[word2] = dictionary[word2] + 1\n",
    "                    \n",
    "        \n",
    "        for word in list(dictionary.keys()):\n",
    "            print (word, dictionary[word])"
   ]
  },
  {
   "cell_type": "code",
   "execution_count": 13,
   "metadata": {},
   "outputs": [
    {
     "name": "stdout",
     "output_type": "stream",
     "text": [
      "her 207\n",
      "she 518\n",
      "he 110\n",
      "him 23\n"
     ]
    }
   ],
   "source": [
    "    dictionary = dict() \n",
    "    pronoun1 = \"he\"\n",
    "    pronoun2 = \"she\"\n",
    "    pronoun3 = \"him\"\n",
    "    pronoun4 = \"her\"\n",
    "    \n",
    "    with open('data/11-0.txt', 'r') as fin:\n",
    "        for line in fin:\n",
    "            \n",
    "            line = line.lower()\n",
    "            line = line.strip()\n",
    "            \n",
    "            splitted_word_list = line.split(\" \")\n",
    "            \n",
    "            for word in splitted_word_list:\n",
    "                \n",
    "                if pronoun1 == word:\n",
    "                    if pronoun1 not in dictionary: \n",
    "                        dictionary[pronoun1] = 1\n",
    "                    else:\n",
    "                        dictionary[pronoun1] = dictionary[pronoun1] + 1\n",
    "        \n",
    "                elif pronoun2 == word:\n",
    "                    if pronoun2 not in dictionary: \n",
    "                        dictionary[pronoun2] = 1\n",
    "                    else:\n",
    "                        dictionary[pronoun2] = dictionary[pronoun2] + 1\n",
    "                    \n",
    "                elif pronoun3 == word:\n",
    "                    if pronoun3 not in dictionary: \n",
    "                        dictionary[pronoun3] = 1\n",
    "                    else:\n",
    "                        dictionary[pronoun3] = dictionary[pronoun3] + 1\n",
    "                        \n",
    "                elif pronoun4 == word:\n",
    "                    if pronoun4 not in dictionary: \n",
    "                        dictionary[pronoun4] = 1\n",
    "                    else:\n",
    "                        dictionary[pronoun4] = dictionary[pronoun4] + 1\n",
    "        \n",
    "        for word in list(dictionary.keys()):\n",
    "            print (word, dictionary[word])"
   ]
  },
  {
   "cell_type": "code",
   "execution_count": 21,
   "metadata": {},
   "outputs": [
    {
     "name": "stdout",
     "output_type": "stream",
     "text": [
      "the\n",
      "1654\n"
     ]
    }
   ],
   "source": [
    "    dictionary = dict() \n",
    "    \n",
    "    count = 0\n",
    "    most_frequent_word = 'a'\n",
    "    \n",
    "    with open('data/43-0.txt', 'r') as fin:\n",
    "        for line in fin:\n",
    "            \n",
    "            line = line.strip()\n",
    "            \n",
    "            splitted_word_list = line.split(\" \")\n",
    "            \n",
    "            for word in splitted_word_list:\n",
    "                    if word not in dictionary: \n",
    "                        dictionary[word] = 1\n",
    "                    else:\n",
    "                        dictionary[word] = dictionary[word] + 1\n",
    "        \n",
    "        \n",
    "        for word in list(dictionary.keys()):\n",
    "            \n",
    "            if dictionary[word] >= count:\n",
    "                \n",
    "                count = dictionary[word]\n",
    "                \n",
    "                most_frequent_word = word\n",
    "            \n",
    "            \n",
    "        \n",
    "        print (most_frequent_word)\n",
    "        print (count)"
   ]
  },
  {
   "cell_type": "markdown",
   "metadata": {},
   "source": [
    "Analysis\n",
    "\n",
    "\n",
    "Book: The Strange Case Of Dr. Jekyll And Mr. Hyde\n",
    "\n",
    "Question: Which name appears more often in the book? Hyde or Jekyll?\n",
    "Question2: What word does the author use most often?\n",
    "\n",
    "\n",
    "For this book, I had 2 questions to answer. For question 1, I wanted to find out whether the word Hyde or Jekyll appears more often. In order to test this out, I initialized two strings at the beginning: \"Jekyll\" and \"Hyde\". In addition, I initialized dictionary. As I read each line of the txt file, I first stripped the line to remove any unnecessay space or newline. Then, I created a list of words in that particular line to examine. I then looped through the newly created list of words. Here, I checked for few things. I first checked whether the dictionary currently contains the strings \"Jekyll\" and \"Hyde\". If the dictionary did not contain the words, I initialized the values of each key(word) to 1. If the dictionary did contain the words, then I simply increased the values of each key(Jekyll and Hyde) by 1. Finally, I looped through the keys of the dictionary, and printed the keys and values of the dictionary. My hypothesis was the word \"Hyde\" appears more often in the book. In fact, my hypothesis was correct.\n",
    "\n",
    "\n",
    "For question 2, I wanted to find out the most frequently apppearing words. In order to test this out, I initialized a answer string with random letter and a count of 0. Similar to what I did in question 1, I first stripped the line to remove any unnecessay space or newline. Then, I created a list of words in that particular line to examine. I then looped through the newly created list of words. If the dictionary did not contain the word, I initialized the values of each key(word) to 1. If the dictionary did contain the words, then I simply increased the values of each key(Jekyll and Hyde) by 1. I then looped through the dictionary to update the count and return string value. If the count of the iterated key was higher than the initialized count, then I updated the initialized count with the new count and the return string too the iterated key. My hypothesis was incoorrect and the correct answer was \"the\n",
    "\n",
    "\n",
    "\n",
    "Book: Alice’s Adventures in Wonderland\n",
    "\n",
    "Question: Are the pronouns in Alice's Adventures in Wonderland predominantly male or female?\n",
    "\n",
    "For this book, I had 1 question to answer. Similar to question 1 of the book \"The Strange Case Of Dr. Jekyll And Mr. Hyde\", I needed to find out which pronouns appear more often. In order to test this out, I initialized four pronoun strings at the beginning: he, him, she, and her. In addition, I initialized dictionary. As I read each line of the txt file, I first stripped the line to remove any unnecessay space or newline. Then, I created a list of words in that particular line to examine. I then looped through the newly created list of words.  Here, I checked for few things. I first checked whether the dictionary currently contains the strings \"he\", \"she\", \"him\" and \"her\". If the dictionary did not contain the words, I initialized the values of each key(word) to 1. If the dictionary did contain the words, then I simply increased the values of each key by 1. Finally, I looped through the keys of the dictionary, and printed the keys and values of the dictionary. My hypothesis was incorrect and the pronouns in Alice's Adventures in Wonderland predominantly were female.\n"
   ]
  }
 ],
 "metadata": {
  "kernelspec": {
   "display_name": "Python 3",
   "language": "python",
   "name": "python3"
  },
  "language_info": {
   "codemirror_mode": {
    "name": "ipython",
    "version": 3
   },
   "file_extension": ".py",
   "mimetype": "text/x-python",
   "name": "python",
   "nbconvert_exporter": "python",
   "pygments_lexer": "ipython3",
   "version": "3.8.5"
  }
 },
 "nbformat": 4,
 "nbformat_minor": 4
}
